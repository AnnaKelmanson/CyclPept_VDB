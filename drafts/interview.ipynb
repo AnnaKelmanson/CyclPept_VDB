{
 "cells": [
  {
   "cell_type": "code",
   "execution_count": 2,
   "metadata": {},
   "outputs": [],
   "source": [
    "import pandas as pd\n",
    "import numpy as np\n",
    "import random"
   ]
  },
  {
   "cell_type": "markdown",
   "metadata": {},
   "source": [
    "# dataset generation\n"
   ]
  },
  {
   "cell_type": "code",
   "execution_count": 3,
   "metadata": {},
   "outputs": [],
   "source": [
    "solvents = ['H2O', 'EtOH', 'DMSO', 'THF']\n",
    "temp = [0, 25, 50, 80, 100, 150]"
   ]
  },
  {
   "cell_type": "code",
   "execution_count": 7,
   "metadata": {},
   "outputs": [],
   "source": [
    "sample_solvent = random.sample(solvents, k=1)\n",
    "sample_t = random.sample(temp, k=1)"
   ]
  },
  {
   "cell_type": "code",
   "execution_count": 8,
   "metadata": {},
   "outputs": [
    {
     "data": {
      "text/plain": [
       "['H2O']"
      ]
     },
     "execution_count": 8,
     "metadata": {},
     "output_type": "execute_result"
    }
   ],
   "source": [
    "sample_solvent"
   ]
  },
  {
   "cell_type": "code",
   "execution_count": 9,
   "metadata": {},
   "outputs": [
    {
     "data": {
      "text/plain": [
       "[50]"
      ]
     },
     "execution_count": 9,
     "metadata": {},
     "output_type": "execute_result"
    }
   ],
   "source": [
    "sample_t"
   ]
  },
  {
   "cell_type": "code",
   "execution_count": 13,
   "metadata": {},
   "outputs": [],
   "source": [
    "def experiment_selector(solvents, temperatures):\n",
    "    solvent = random.sample(solvents, k=1)\n",
    "    temp =  random.sample(temperatures, k=1)\n",
    "    return solvent[0], temp[0]"
   ]
  },
  {
   "cell_type": "code",
   "execution_count": 14,
   "metadata": {},
   "outputs": [
    {
     "data": {
      "text/plain": [
       "('EtOH', 80)"
      ]
     },
     "execution_count": 14,
     "metadata": {},
     "output_type": "execute_result"
    }
   ],
   "source": [
    "experiment_selector(solvents, temp)"
   ]
  },
  {
   "cell_type": "code",
   "execution_count": 15,
   "metadata": {},
   "outputs": [],
   "source": [
    "def dummy_ml(tuple):\n",
    "    return random.uniform(0,100)"
   ]
  },
  {
   "cell_type": "code",
   "execution_count": 16,
   "metadata": {},
   "outputs": [
    {
     "data": {
      "text/plain": [
       "35.30249210569085"
      ]
     },
     "execution_count": 16,
     "metadata": {},
     "output_type": "execute_result"
    }
   ],
   "source": [
    "dummy_ml(experiment_selector(solvents, temp))"
   ]
  },
  {
   "cell_type": "code",
   "execution_count": 18,
   "metadata": {},
   "outputs": [
    {
     "name": "stdout",
     "output_type": "stream",
     "text": [
      "solvent H2O\n",
      "temp 0\n",
      "yield 26.79972190283587\n",
      "solvent DMSO\n",
      "temp 0\n",
      "yield 40.84380052786677\n",
      "solvent EtOH\n",
      "temp 25\n",
      "yield 75.40578948799018\n",
      "solvent THF\n",
      "temp 50\n",
      "yield 92.53985464558808\n",
      "solvent DMSO\n",
      "temp 0\n",
      "yield 8.963877099463657\n",
      "solvent THF\n",
      "temp 150\n",
      "yield 72.71075177848525\n",
      "solvent THF\n",
      "temp 0\n",
      "yield 18.69041736475714\n",
      "solvent THF\n",
      "temp 50\n",
      "yield 99.91791284619296\n"
     ]
    }
   ],
   "source": [
    "max_yield = 0\n",
    "while max_yield < 95:\n",
    "    solvent_sample, temp_sample = experiment_selector(solvents, temp)\n",
    "    max_yield = dummy_ml((solvent_sample, temp_sample))\n",
    "    print(f'solvent {solvent_sample}')\n",
    "    print(f'temp {temp_sample}')\n",
    "    print(f'yield {max_yield}')\n"
   ]
  },
  {
   "cell_type": "code",
   "execution_count": null,
   "metadata": {},
   "outputs": [],
   "source": [
    "max = 0 \n",
    "def reaction_simulator():\n"
   ]
  },
  {
   "cell_type": "code",
   "execution_count": null,
   "metadata": {},
   "outputs": [],
   "source": [
    "While loop, until yield > 95%\n",
    "a. print out experiment and yield"
   ]
  }
 ],
 "metadata": {
  "kernelspec": {
   "display_name": "dspy",
   "language": "python",
   "name": "python3"
  },
  "language_info": {
   "codemirror_mode": {
    "name": "ipython",
    "version": 3
   },
   "file_extension": ".py",
   "mimetype": "text/x-python",
   "name": "python",
   "nbconvert_exporter": "python",
   "pygments_lexer": "ipython3",
   "version": "3.9.18"
  }
 },
 "nbformat": 4,
 "nbformat_minor": 2
}
